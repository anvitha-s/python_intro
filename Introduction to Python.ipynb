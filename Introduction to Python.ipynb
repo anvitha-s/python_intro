{
 "cells": [
  {
   "cell_type": "markdown",
   "metadata": {},
   "source": [
    "# Python topics\n",
    "\n",
    "- Jupyter\n",
    "- Variables\n",
    "- Data types: Strings, integers, lists, dictionaries, tuples\n",
    "- \"for\" loops\n",
    "- Reading data from a file\n",
    "- \"if\" statements\n",
    "- functions"
   ]
  },
  {
   "cell_type": "markdown",
   "metadata": {},
   "source": [
    "# Expectations\n",
    "\n",
    "- This is an introduction\n",
    "- Programmming takes practice\n",
    "- You need a real problem to work on"
   ]
  },
  {
   "cell_type": "markdown",
   "metadata": {},
   "source": [
    "# Tutorial\n",
    "\n",
    "This site has examples that you can experiment with online: https://www.w3schools.com/python/\n",
    "\n",
    "This is the introductory tutorial for Python that this workshop is heavily based on\n",
    "https://github.com/mcahn/Intro-to-Python\n",
    "\n",
    "### Books\n",
    "\n",
    "**Introducing Python, 2nd Edition, Bill Lubanovic**\n",
    "\n",
    "**Python for Data Analysis, 3rd Edition, Wes McKinney, O'Reilly Media, Inc.**"
   ]
  },
  {
   "cell_type": "markdown",
   "metadata": {},
   "source": [
    "# Acknowledgements\n",
    "\n",
    "- Jon Halverson\n",
    "- Ma. Florevel (Floe) Fusin-Wischusen\n",
    "- Andrea Rubinstein\n",
    "- PICSciE -- The Princeton Institute for Computational Science and Engineering\n",
    "- Bridgett vonHoldt"
   ]
  },
  {
   "cell_type": "markdown",
   "metadata": {},
   "source": [
    "# Jupyter\n",
    "\n",
    "- You are running a web browser.\n",
    "- Inside the web browser is the Jupyter development environment for Python.\n",
    "- The file that you have open in Jupyter is an iPython notebook."
   ]
  },
  {
   "cell_type": "markdown",
   "metadata": {},
   "source": [
    "## Cells\n",
    "- An iPython notebook is divided into cells.\n",
    "- Click on this cell.\n",
    "  - Now the cell is selected.\n",
    "  - Note that the menu above says \"Markdown\"."
   ]
  },
  {
   "cell_type": "markdown",
   "metadata": {},
   "source": [
    "![](markdown.png)"
   ]
  },
  {
   "cell_type": "markdown",
   "metadata": {},
   "source": [
    "- Now click on the cell below, and note that the menu says \"Code\"."
   ]
  },
  {
   "cell_type": "code",
   "execution_count": 5,
   "metadata": {},
   "outputs": [
    {
     "name": "stdout",
     "output_type": "stream",
     "text": [
      "Hello world!\n"
     ]
    }
   ],
   "source": [
    "print('Hello world!')"
   ]
  },
  {
   "cell_type": "markdown",
   "metadata": {},
   "source": [
    "- Run the cell above by single-clicking on it to select it,\n",
    "- and then click the \"Run\" button above, OR press Shift-Return.\n",
    "  - That is, while holding down the shift key, press the return key.\n",
    "![](run.png)"
   ]
  },
  {
   "cell_type": "markdown",
   "metadata": {},
   "source": [
    "## Exercise 01\n",
    "\n",
    "- Change 'Hello world!' above to something else, and run the cell again.\n",
    "- Make a new cell by clicking the + button above.\n",
    "- Put a Python print function in the cell and run it."
   ]
  },
  {
   "cell_type": "markdown",
   "metadata": {},
   "source": [
    "# Variables "
   ]
  },
  {
   "cell_type": "markdown",
   "metadata": {},
   "source": [
    "### Strings\n",
    "\n",
    "- A string is a sequence of characters -- letters, numbers, punctuation, spaces, etc."
   ]
  },
  {
   "cell_type": "markdown",
   "metadata": {},
   "source": [
    "### Assignment Operators\n",
    "\n",
    "= is the assignment operator.\n",
    "\n",
    "It means, take the thing on the right, and put it in the thing on the left."
   ]
  },
  {
   "cell_type": "code",
   "execution_count": 72,
   "metadata": {},
   "outputs": [
    {
     "name": "stdout",
     "output_type": "stream",
     "text": [
      "I like Python.\n"
     ]
    }
   ],
   "source": [
    "s = 'I like Python.'\n",
    "print(s)"
   ]
  },
  {
   "cell_type": "markdown",
   "metadata": {},
   "source": [
    "### What is a Variable?\n",
    "\n",
    "- A variable is a name for a place in computer memory.\n",
    "- Above we created a variable called s, and put the string \"I like Python.\" in it.\n",
    "- You create a variable simply by assigning a value to it.\n",
    "- Upper/lower case matters!\n",
    "- Every variable has a type."
   ]
  },
  {
   "cell_type": "code",
   "execution_count": 73,
   "metadata": {},
   "outputs": [
    {
     "name": "stdout",
     "output_type": "stream",
     "text": [
      "<class 'str'>\n"
     ]
    }
   ],
   "source": [
    "print(type(s))"
   ]
  },
  {
   "cell_type": "markdown",
   "metadata": {},
   "source": [
    "- 'str' is what Python calls an string.\n",
    "\n",
    "- \"class\" is just another way to say, in Python, \"this is a data type\"."
   ]
  },
  {
   "cell_type": "markdown",
   "metadata": {},
   "source": [
    "### Exercise 02\n",
    "\n",
    "- Create a new variable by assigining a string to it.\n",
    "- Print it.\n",
    "- What happens if you use double-quotes (\") instead of single quotes (')?"
   ]
  },
  {
   "cell_type": "markdown",
   "metadata": {},
   "source": [
    "### Undefined variables\n",
    "- What happens if you use a variable that has not been defined?"
   ]
  },
  {
   "cell_type": "code",
   "execution_count": 74,
   "metadata": {},
   "outputs": [
    {
     "ename": "NameError",
     "evalue": "name 'blah' is not defined",
     "output_type": "error",
     "traceback": [
      "\u001b[1;31m---------------------------------------------------------------------------\u001b[0m",
      "\u001b[1;31mNameError\u001b[0m                                 Traceback (most recent call last)",
      "\u001b[1;32m<ipython-input-74-5e4ab9400f72>\u001b[0m in \u001b[0;36m<module>\u001b[1;34m()\u001b[0m\n\u001b[1;32m----> 1\u001b[1;33m \u001b[0mprint\u001b[0m\u001b[1;33m(\u001b[0m\u001b[0mblah\u001b[0m\u001b[1;33m)\u001b[0m\u001b[1;33m\u001b[0m\u001b[0m\n\u001b[0m",
      "\u001b[1;31mNameError\u001b[0m: name 'blah' is not defined"
     ]
    }
   ],
   "source": [
    "print(blah)"
   ]
  },
  {
   "cell_type": "markdown",
   "metadata": {},
   "source": [
    "- You get a NameError"
   ]
  },
  {
   "cell_type": "code",
   "execution_count": 75,
   "metadata": {},
   "outputs": [
    {
     "name": "stdout",
     "output_type": "stream",
     "text": [
      "something\n"
     ]
    }
   ],
   "source": [
    "blah = 'something'\n",
    "print(blah)"
   ]
  },
  {
   "cell_type": "markdown",
   "metadata": {},
   "source": [
    "### Integers\n",
    "\n",
    "- Integers are numbers that do not have decimal places:\n",
    "```\n",
    "..., -3, -2, -1, 0, 1, 2, 3, ...\n",
    "```"
   ]
  },
  {
   "cell_type": "code",
   "execution_count": 76,
   "metadata": {},
   "outputs": [
    {
     "name": "stdout",
     "output_type": "stream",
     "text": [
      "1\n",
      "<class 'int'>\n"
     ]
    }
   ],
   "source": [
    "x = 1\n",
    "print(x)\n",
    "print(type(x))"
   ]
  },
  {
   "cell_type": "markdown",
   "metadata": {},
   "source": [
    "- 'int' is what Python calls an integer.\n",
    "- Once something has been created, it's called an \"object\".\n",
    "- Everything in Python is an \"object\". \"variable\" is a kind of object.\n",
    "- x is an object whose class (aka data type) is int."
   ]
  },
  {
   "cell_type": "markdown",
   "metadata": {},
   "source": [
    "### Floats\n",
    "\n",
    "- A number with a decimal point is called a \"floating point\" number."
   ]
  },
  {
   "cell_type": "code",
   "execution_count": 78,
   "metadata": {},
   "outputs": [
    {
     "name": "stdout",
     "output_type": "stream",
     "text": [
      "1.1\n",
      "<class 'float'>\n"
     ]
    }
   ],
   "source": [
    "x = 1.1\n",
    "print(x)\n",
    "print(type(x))"
   ]
  },
  {
   "cell_type": "markdown",
   "metadata": {},
   "source": [
    "### Break to think\n",
    "Suppose the inventory system in a grocery store records details of fruits as variables in a python program. \n",
    "Given our progress so far, what would be the type of the variable storing the:\n",
    "1. Name of the fruit\n",
    "2. Quantity of fruits in stock\n",
    "3. Price per lb"
   ]
  },
  {
   "cell_type": "markdown",
   "metadata": {},
   "source": [
    "### Hmmmm......\n",
    "What if you want a string with a ' ? Try printing I'm learning Python in the cell below. How would you do that?"
   ]
  },
  {
   "cell_type": "markdown",
   "metadata": {},
   "source": [
    "# Comments\n",
    "\n",
    "- Anything after # is a comment.  It's for someone reading your program.  It doesn't do anything."
   ]
  },
  {
   "cell_type": "code",
   "execution_count": 79,
   "metadata": {},
   "outputs": [
    {
     "name": "stdout",
     "output_type": "stream",
     "text": [
      "something\n"
     ]
    }
   ],
   "source": [
    "# Print something\n",
    "\n",
    "print('something')"
   ]
  },
  {
   "cell_type": "markdown",
   "metadata": {},
   "source": [
    "# For loops\n",
    "\n",
    "- This is a for loop. It executes once for every item in \"things\"...\n",
    "\n",
    "```\n",
    "# Go through each thing in things...\n",
    "for thing in things:\n",
    "    # do something with each thing\n",
    "    print(thing)\n",
    "```\n",
    "\n",
    "- The indentation matters -- it tells Python which statements are part of the loop.\n",
    "\n",
    "- Notice the colon (:) at the end of the for loop.  This tells Python that there is some significant indentation after it."
   ]
  },
  {
   "cell_type": "code",
   "execution_count": 80,
   "metadata": {},
   "outputs": [
    {
     "name": "stdout",
     "output_type": "stream",
     "text": [
      "I like Python.\n",
      "I\n",
      " \n",
      "l\n",
      "i\n",
      "k\n",
      "e\n",
      " \n",
      "P\n",
      "y\n",
      "t\n",
      "h\n",
      "o\n",
      "n\n",
      ".\n"
     ]
    }
   ],
   "source": [
    "s = 'I like Python.'\n",
    "print(s)\n",
    "\n",
    "# Print every character in the string \"s\".\n",
    "\n",
    "for c in s:\n",
    "    print(c)"
   ]
  },
  {
   "cell_type": "markdown",
   "metadata": {},
   "source": [
    "### The range function\n",
    "\n",
    "- `range(start, end)` generates numbers from start to end minus 1"
   ]
  },
  {
   "cell_type": "code",
   "execution_count": 81,
   "metadata": {},
   "outputs": [
    {
     "name": "stdout",
     "output_type": "stream",
     "text": [
      "0\n",
      "1\n",
      "2\n",
      "3\n",
      "4\n",
      "5\n",
      "6\n",
      "7\n",
      "8\n",
      "9\n"
     ]
    }
   ],
   "source": [
    "for number in range(0, 10):\n",
    "    print(number)"
   ]
  },
  {
   "cell_type": "markdown",
   "metadata": {},
   "source": [
    "- If you omit the start, it defaults to 0."
   ]
  },
  {
   "cell_type": "code",
   "execution_count": 82,
   "metadata": {},
   "outputs": [
    {
     "name": "stdout",
     "output_type": "stream",
     "text": [
      "0\n",
      "1\n",
      "2\n",
      "3\n",
      "4\n",
      "5\n",
      "6\n",
      "7\n",
      "8\n",
      "9\n"
     ]
    }
   ],
   "source": [
    "for number in range(10):\n",
    "    print(number)"
   ]
  },
  {
   "cell_type": "markdown",
   "metadata": {},
   "source": [
    "### Exercise 03\n",
    "\n",
    "- Print the numbers from 10 to 20, one number per line.\n",
    "- Be sure to include the number 20."
   ]
  },
  {
   "cell_type": "markdown",
   "metadata": {},
   "source": [
    "# Reading a file\n",
    "\n",
    "- To read a file you first have to open it.\n",
    "- Once it's open you can read it with a for loop.\n",
    "- When you're done reading it, close it.\n",
    "- An open file is an iterable, so you can use it in a for loop. "
   ]
  },
  {
   "cell_type": "code",
   "execution_count": 85,
   "metadata": {},
   "outputs": [
    {
     "name": "stdout",
     "output_type": "stream",
     "text": [
      "We are on the first line.\n",
      "\n",
      "We are on the second line.\n",
      "\n",
      "We are on the third line.\n",
      "\n",
      "We are on the fourth line.\n",
      "\n",
      "We are on the fifth line.\n",
      "\n",
      "We are on the sixth line.\n",
      "\n",
      "We are on the seventh line.\n",
      "\n",
      "We are on the eighth line.\n",
      "\n",
      "We are on the ninth line.\n",
      "\n",
      "We are on the tenth line.\n",
      "\n",
      "We are on the eleventh line.\n",
      "\n",
      "We are on the twelfth line.\n",
      "\n"
     ]
    }
   ],
   "source": [
    "# Open a file\n",
    "\n",
    "openFile = open('sample_text.txt')\n",
    "\n",
    "# Iterate through every line in the file.\n",
    "for line in openFile:\n",
    "    \n",
    "    # Print the current line\n",
    "    \n",
    "    print(line)\n",
    "\n",
    "# Close the file\n",
    "\n",
    "openFile.close()        # <=== Don't forget to close the file!"
   ]
  },
  {
   "cell_type": "markdown",
   "metadata": {},
   "source": [
    "### Exercise 04\n",
    "\n",
    "- line is a variable.  Modify the cell above to print the type of the variable line."
   ]
  },
  {
   "cell_type": "markdown",
   "metadata": {},
   "source": [
    "# Arithmetic"
   ]
  },
  {
   "cell_type": "markdown",
   "metadata": {},
   "source": [
    "## Addition operator\n",
    "\n",
    "- \\+ is the addition operator."
   ]
  },
  {
   "cell_type": "code",
   "execution_count": 87,
   "metadata": {},
   "outputs": [
    {
     "name": "stdout",
     "output_type": "stream",
     "text": [
      "3\n"
     ]
    }
   ],
   "source": [
    "x = 1\n",
    "y = 2\n",
    "z = x + y\n",
    "print(z)"
   ]
  },
  {
   "cell_type": "code",
   "execution_count": 88,
   "metadata": {},
   "outputs": [
    {
     "name": "stdout",
     "output_type": "stream",
     "text": [
      "I added 1 to z and now z is 4\n"
     ]
    }
   ],
   "source": [
    "z = z + 1\n",
    "print('I added 1 to z and now z is', z)"
   ]
  },
  {
   "cell_type": "markdown",
   "metadata": {},
   "source": [
    "### Exercise 05\n",
    "- Modify the cell below which prints every line in the file to also to count the total number of lines in the file and print the number.\n",
    "\n",
    "- Note: print the number only once."
   ]
  },
  {
   "cell_type": "code",
   "execution_count": 89,
   "metadata": {},
   "outputs": [
    {
     "name": "stdout",
     "output_type": "stream",
     "text": [
      "We are on the first line.\n",
      "\n",
      "We are on the second line.\n",
      "\n",
      "We are on the third line.\n",
      "\n",
      "We are on the fourth line.\n",
      "\n",
      "We are on the fifth line.\n",
      "\n",
      "We are on the sixth line.\n",
      "\n",
      "We are on the seventh line.\n",
      "\n",
      "We are on the eighth line.\n",
      "\n",
      "We are on the ninth line.\n",
      "\n",
      "We are on the tenth line.\n",
      "\n",
      "We are on the eleventh line.\n",
      "\n",
      "We are on the twelfth line.\n",
      "\n"
     ]
    }
   ],
   "source": [
    "# Open a file\n",
    "\n",
    "openFile = open('sample_text.txt')\n",
    "\n",
    "# Iterate through every line in the file.\n",
    "for line in openFile:\n",
    "    \n",
    "    # Print the current line\n",
    "    \n",
    "    print(line)\n",
    "\n",
    "# Close the file\n",
    "\n",
    "openFile.close()        # <=== Don't forget to close the file!"
   ]
  },
  {
   "cell_type": "markdown",
   "metadata": {},
   "source": [
    "## The arithmetic operators\n",
    "\n",
    "```\n",
    "+ addition\n",
    "- subtraction\n",
    "* mutiplication\n",
    "/ division\n",
    "// floor division, that is, 8 // 3 equals 2\n",
    "** exponentiation (power)\n",
    "% modulus (remainder after integer division), that is, 9 % 2 equals 1\n",
    "```"
   ]
  },
  {
   "cell_type": "markdown",
   "metadata": {},
   "source": [
    "### Exercise 06\n",
    "If I purchase 3 mangoes, each priced at $2.50 and I split it with one friend. Complete the cell below to print the total amount I paid for the purchase and my share."
   ]
  },
  {
   "cell_type": "code",
   "execution_count": 91,
   "metadata": {},
   "outputs": [],
   "source": [
    "#the variable name denotes the information they store\n",
    "number_of_mangoes = 3\n",
    "price_per_mango = 2.5\n",
    "\n",
    "#calculate the total cost and print it here\n",
    "\n",
    "#calculate the share and print it here"
   ]
  },
  {
   "cell_type": "markdown",
   "metadata": {},
   "source": [
    "### Exercise 07\n",
    "\n",
    "- Print the numbers from 10 to 20, one number per line.\n",
    "- Be sure to include the number 20.\n",
    "- Now modify the code to print the remainder of each number when divided by 3 after printing the number"
   ]
  },
  {
   "cell_type": "markdown",
   "metadata": {},
   "source": [
    "## Operator overloading\n",
    "\n",
    "Operator overloading is just a fancy term for operators doing different things depending on what they are operating on.\n",
    "\n",
    "- For lists and strings, \"+\" means concatenation (joining together).\n",
    "- For integers, \"+\" means addition.\n",
    "- Operator over-loading is feature of object-oriented programming.\n",
    "  - Python is an object-oriented language."
   ]
  },
  {
   "cell_type": "code",
   "execution_count": 33,
   "metadata": {
    "scrolled": true
   },
   "outputs": [
    {
     "name": "stdout",
     "output_type": "stream",
     "text": [
      "Hi there.\n"
     ]
    }
   ],
   "source": [
    "sOne = 'Hi '\n",
    "sTwo = 'there.'\n",
    "sThree = sOne + sTwo\n",
    "print(sThree)"
   ]
  },
  {
   "cell_type": "code",
   "execution_count": 34,
   "metadata": {},
   "outputs": [
    {
     "name": "stdout",
     "output_type": "stream",
     "text": [
      "[1, 2, 3, 4, 5, 6]\n"
     ]
    }
   ],
   "source": [
    "listOne = [1, 2, 3]\n",
    "listTwo = [4, 5, 6]\n",
    "listThree = listOne + listTwo\n",
    "print(listThree)"
   ]
  },
  {
   "cell_type": "markdown",
   "metadata": {},
   "source": [
    "### Exercise 08\n",
    " - Modify the code below to print \"I found this line: \" before every line in the file\n",
    " - Note: use only one print statement within the loop"
   ]
  },
  {
   "cell_type": "code",
   "execution_count": 37,
   "metadata": {},
   "outputs": [
    {
     "name": "stdout",
     "output_type": "stream",
     "text": [
      "We are on the first line.\n",
      "\n",
      "We are on the second line.\n",
      "\n",
      "We are on the third line.\n",
      "\n",
      "We are on the fourth line.\n",
      "\n",
      "We are on the fifth line.\n",
      "\n",
      "We are on the sixth line.\n",
      "\n",
      "We are on the seventh line.\n",
      "\n",
      "We are on the eighth line.\n",
      "\n",
      "We are on the ninth line.\n",
      "\n",
      "We are on the tenth line.\n",
      "\n",
      "We are on the eleventh line.\n",
      "\n",
      "We are on the twelfth line.\n",
      "\n"
     ]
    }
   ],
   "source": [
    "# Open a file\n",
    "\n",
    "openFile = open('sample_text.txt')\n",
    "\n",
    "# Iterate through every line in the file.\n",
    "for line in openFile:\n",
    "    \n",
    "    # Print the current line\n",
    "    \n",
    "    print(line)\n",
    "\n",
    "# Close the file\n",
    "\n",
    "openFile.close()        # <=== Don't forget to close the file!"
   ]
  },
  {
   "cell_type": "markdown",
   "metadata": {},
   "source": [
    "# Lists\n",
    "\n",
    "- A list is a collection of Python objects, such as strings or integers."
   ]
  },
  {
   "cell_type": "code",
   "execution_count": 98,
   "metadata": {},
   "outputs": [
    {
     "name": "stdout",
     "output_type": "stream",
     "text": [
      "['apple', 'banana', 'mango']\n"
     ]
    }
   ],
   "source": [
    "# Create a list of three strings\n",
    "\n",
    "fruits = ['apple', 'banana', 'mango']\n",
    "\n",
    "print(fruits)"
   ]
  },
  {
   "cell_type": "markdown",
   "metadata": {},
   "source": [
    "## Methods\n",
    "\n",
    "- \"append\" is a method of the list object.\n",
    "\n",
    "- It knows how to attach things to the end of the list."
   ]
  },
  {
   "cell_type": "code",
   "execution_count": 99,
   "metadata": {},
   "outputs": [
    {
     "name": "stdout",
     "output_type": "stream",
     "text": [
      "['apple', 'banana', 'mango', 'kiwi']\n"
     ]
    }
   ],
   "source": [
    "# Attach something to the end of the list\n",
    "\n",
    "fruits.append('kiwi')\n",
    "print(fruits)"
   ]
  },
  {
   "cell_type": "markdown",
   "metadata": {},
   "source": [
    "- \"sort\" is also a method of the list . It puts the things in the list in order."
   ]
  },
  {
   "cell_type": "code",
   "execution_count": 100,
   "metadata": {},
   "outputs": [
    {
     "name": "stdout",
     "output_type": "stream",
     "text": [
      "['apple', 'banana', 'kiwi', 'mango']\n"
     ]
    }
   ],
   "source": [
    "# Sort a list in order\n",
    "\n",
    "fruits.sort()\n",
    "\n",
    "print(fruits)"
   ]
  },
  {
   "cell_type": "markdown",
   "metadata": {},
   "source": [
    "## Length of list\n",
    "\"len\" is method used with a list object. It returns the length of the list."
   ]
  },
  {
   "cell_type": "code",
   "execution_count": 96,
   "metadata": {},
   "outputs": [
    {
     "data": {
      "text/plain": [
       "4"
      ]
     },
     "execution_count": 96,
     "metadata": {},
     "output_type": "execute_result"
    }
   ],
   "source": [
    "len(fruits)"
   ]
  },
  {
   "cell_type": "markdown",
   "metadata": {},
   "source": [
    "- You can make an empty list."
   ]
  },
  {
   "cell_type": "code",
   "execution_count": 101,
   "metadata": {},
   "outputs": [
    {
     "name": "stdout",
     "output_type": "stream",
     "text": [
      "[]\n"
     ]
    }
   ],
   "source": [
    "anotherList = []\n",
    "\n",
    "print(anotherList)"
   ]
  },
  {
   "cell_type": "markdown",
   "metadata": {},
   "source": [
    "### Exercise 09\n",
    "\n",
    "- Create a list containing three integers. Be sure the integers *are not* in numerical order.\n",
    "- Sort the list in numerical order and print it out.\n",
    "- Using a for loop, print out each integer in your list, one per line."
   ]
  },
  {
   "cell_type": "markdown",
   "metadata": {},
   "source": [
    "## List indexes\n",
    "\n",
    "- Indexes are used to access individual items in a list.\n",
    "- **Indexes are integers, starting from 0.**"
   ]
  },
  {
   "cell_type": "code",
   "execution_count": 104,
   "metadata": {},
   "outputs": [
    {
     "name": "stdout",
     "output_type": "stream",
     "text": [
      "fruits:  ['apple', 'banana', 'kiwi', 'mango']\n",
      "fruits[0]: apple\n",
      "fruits[3]: mango\n"
     ]
    }
   ],
   "source": [
    "fruits = ['apple', 'banana', 'kiwi', 'mango']\n",
    "\n",
    "print('fruits: ', fruits)\n",
    "\n",
    "print('fruits[0]:', fruits[0])\n",
    "\n",
    "print('fruits[3]:', fruits[3])"
   ]
  },
  {
   "cell_type": "markdown",
   "metadata": {},
   "source": [
    "### Exercise 10\n",
    "\n",
    "- Use the list of fruits above to print each of the items in a separate line"
   ]
  },
  {
   "cell_type": "markdown",
   "metadata": {},
   "source": [
    "### Exercise 11\n",
    "\n",
    "- Use the list of fruits above to print each of the items in a separate line, with in the format \"Fruit 1 is apple\"\n",
    "- Note: The first printed line starts at 1"
   ]
  },
  {
   "cell_type": "markdown",
   "metadata": {},
   "source": [
    "## List Slices\n",
    "\n",
    "- You can specify a range of indexes -- this is called a \"slice\".\n",
    "\n",
    "- The slice is specified as a starting index, a colon, and a number that is **one more than the ending index** you want."
   ]
  },
  {
   "cell_type": "code",
   "execution_count": 105,
   "metadata": {},
   "outputs": [
    {
     "name": "stdout",
     "output_type": "stream",
     "text": [
      "fruits[0:2]: ['apple', 'banana']\n"
     ]
    }
   ],
   "source": [
    "print('fruits[0:2]:', fruits[0:2])"
   ]
  },
  {
   "cell_type": "markdown",
   "metadata": {},
   "source": [
    "- You can omit one or both indexes\n",
    "  - The starting index defaults to 0.\n",
    "  - The ending index defaults to the end of the list."
   ]
  },
  {
   "cell_type": "code",
   "execution_count": 106,
   "metadata": {},
   "outputs": [
    {
     "name": "stdout",
     "output_type": "stream",
     "text": [
      "fruits[:2]: ['apple', 'banana']\n",
      "fruits[1:]: ['banana', 'kiwi', 'mango']\n",
      "fruits[:]:  ['apple', 'banana', 'kiwi', 'mango']\n"
     ]
    }
   ],
   "source": [
    "# Use the default starting index.\n",
    "\n",
    "print('fruits[:2]:', fruits[:2])\n",
    "\n",
    "# Use the default ending index.\n",
    "\n",
    "print('fruits[1:]:', fruits[1:])\n",
    "\n",
    "# Use both defaults.\n",
    "\n",
    "print('fruits[:]: ', fruits[:])"
   ]
  },
  {
   "cell_type": "markdown",
   "metadata": {},
   "source": [
    "- Negative indexes start from the end"
   ]
  },
  {
   "cell_type": "code",
   "execution_count": 107,
   "metadata": {},
   "outputs": [
    {
     "name": "stdout",
     "output_type": "stream",
     "text": [
      "fruits[-1]: mango\n"
     ]
    }
   ],
   "source": [
    "print('fruits[-1]:', fruits[-1])"
   ]
  },
  {
   "cell_type": "markdown",
   "metadata": {},
   "source": [
    "### Exercise 12\n",
    "\n",
    "- Using a slice, print \"banana\" and \"kiwi\" from the list of fruits."
   ]
  },
  {
   "cell_type": "markdown",
   "metadata": {},
   "source": [
    "## String split method\n",
    "\n",
    "- The split method of a string divides the string\n",
    "- and returns a list of strings."
   ]
  },
  {
   "cell_type": "code",
   "execution_count": 108,
   "metadata": {},
   "outputs": [
    {
     "name": "stdout",
     "output_type": "stream",
     "text": [
      "apple kiwi banana orange\n"
     ]
    }
   ],
   "source": [
    "fruitString = 'apple kiwi banana orange'\n",
    "\n",
    "print(fruitString)"
   ]
  },
  {
   "cell_type": "code",
   "execution_count": 109,
   "metadata": {},
   "outputs": [
    {
     "name": "stdout",
     "output_type": "stream",
     "text": [
      "['apple', 'kiwi', 'banana', 'orange']\n"
     ]
    }
   ],
   "source": [
    "fruits = fruitString.split()\n",
    "\n",
    "print(fruits)"
   ]
  },
  {
   "cell_type": "code",
   "execution_count": 110,
   "metadata": {},
   "outputs": [
    {
     "name": "stdout",
     "output_type": "stream",
     "text": [
      "Help on built-in function split:\n",
      "\n",
      "split(sep=None, maxsplit=-1) method of builtins.str instance\n",
      "    Return a list of the words in the string, using sep as the delimiter string.\n",
      "    \n",
      "    sep\n",
      "      The delimiter according which to split the string.\n",
      "      None (the default value) means split according to any whitespace,\n",
      "      and discard empty strings from the result.\n",
      "    maxsplit\n",
      "      Maximum number of splits to do.\n",
      "      -1 (the default value) means no limit.\n",
      "\n"
     ]
    }
   ],
   "source": [
    "# help(....) is to call for in-built assistance \n",
    "help(fruitString.split)"
   ]
  },
  {
   "cell_type": "markdown",
   "metadata": {},
   "source": [
    "### Exercise 13 - learn delimiters \n",
    "\n",
    "- Make string which contains some commas.\n",
    "- Print the string.\n",
    "- Do this: help(yourString.split) *replacing yourString with your string variable*\n",
    "- Split the string at each comma to create a list.\n",
    "- Print the list"
   ]
  },
  {
   "cell_type": "markdown",
   "metadata": {},
   "source": [
    "### Exercise 14 - learn maxsplit\n",
    "\n",
    "- Make string which contains some commas.\n",
    "- Print the string.\n",
    "- Do this: help(yourString.split) *replacing yourString with your string variable*\n",
    "- Split the string at the first two commas\n",
    "- Print the list\n",
    "- Print the list of the split words"
   ]
  },
  {
   "cell_type": "markdown",
   "metadata": {},
   "source": [
    "### Exercise 15\n",
    " - Modify the code below to print the fifth word on each line"
   ]
  },
  {
   "cell_type": "code",
   "execution_count": 111,
   "metadata": {},
   "outputs": [
    {
     "name": "stdout",
     "output_type": "stream",
     "text": [
      "We are on the first line.\n",
      "\n",
      "We are on the second line.\n",
      "\n",
      "We are on the third line.\n",
      "\n",
      "We are on the fourth line.\n",
      "\n",
      "We are on the fifth line.\n",
      "\n",
      "We are on the sixth line.\n",
      "\n",
      "We are on the seventh line.\n",
      "\n",
      "We are on the eighth line.\n",
      "\n",
      "We are on the ninth line.\n",
      "\n",
      "We are on the tenth line.\n",
      "\n",
      "We are on the eleventh line.\n",
      "\n",
      "We are on the twelfth line.\n",
      "\n"
     ]
    }
   ],
   "source": [
    "# Open a file\n",
    "\n",
    "openFile = open('sample_text.txt')\n",
    "\n",
    "# Iterate through every line in the file.\n",
    "for line in openFile:\n",
    "    \n",
    "    # Print the current line\n",
    "    \n",
    "    print(line)\n",
    "\n",
    "# Close the file\n",
    "\n",
    "openFile.close()        # <=== Don't forget to close the file!"
   ]
  },
  {
   "cell_type": "markdown",
   "metadata": {},
   "source": [
    "# Gotchas\n",
    "- Strings are **immutable**\n",
    "- Lists are **mutable**\n",
    "- Therefore...\n",
    "  - string methods (the ones that produce strings) *return new strings*\n",
    "  - list methods usually change lists *in-place* and return the constant `None`"
   ]
  },
  {
   "cell_type": "code",
   "execution_count": 65,
   "metadata": {},
   "outputs": [
    {
     "name": "stdout",
     "output_type": "stream",
     "text": [
      "sSpaces:   abcdef    <== spaces\n",
      "sStripped: abcdef <== no spaces\n"
     ]
    }
   ],
   "source": [
    "sSpaces = 'abcdef   '\n",
    "sStripped = sSpaces.strip()          # strip removes spaces and returns a new string\n",
    "print('sSpaces:  ', sSpaces, '<== spaces')\n",
    "print('sStripped:', sStripped, '<== no spaces')"
   ]
  },
  {
   "cell_type": "code",
   "execution_count": 66,
   "metadata": {},
   "outputs": [
    {
     "name": "stdout",
     "output_type": "stream",
     "text": [
      "[1, 2, 3]\n"
     ]
    }
   ],
   "source": [
    "listA = [3,2,1]\n",
    "listA.sort()\n",
    "print(listA)"
   ]
  },
  {
   "cell_type": "code",
   "execution_count": 68,
   "metadata": {},
   "outputs": [
    {
     "name": "stdout",
     "output_type": "stream",
     "text": [
      "None\n"
     ]
    }
   ],
   "source": [
    "listA = [3,2,1]\n",
    "\n",
    "# WRONG\n",
    "# sort orders the list in-place and returns None\n",
    "listASorted = listA.sort()\n",
    "\n",
    "print(listASorted)"
   ]
  },
  {
   "cell_type": "markdown",
   "metadata": {},
   "source": [
    "**Everything in Python is a reference**"
   ]
  },
  {
   "cell_type": "code",
   "execution_count": 69,
   "metadata": {},
   "outputs": [
    {
     "name": "stdout",
     "output_type": "stream",
     "text": [
      "listA: [1, 2, 3, 4]\n",
      "listB: [1, 2, 3, 4]\n"
     ]
    }
   ],
   "source": [
    "listA = [1, 2, 3]\n",
    "listB = listA\n",
    "listA.append(4)\n",
    "print('listA:', listA)\n",
    "print('listB:', listB)"
   ]
  },
  {
   "cell_type": "markdown",
   "metadata": {},
   "source": [
    "- In the example above, listB is **not** a copy of listA.\n",
    "- Both listA and listB are references *to the same list*."
   ]
  },
  {
   "cell_type": "markdown",
   "metadata": {},
   "source": [
    "- To make a copy of a list so that you really have two different lists...\n",
    "- Take a slice of the whole list."
   ]
  },
  {
   "cell_type": "code",
   "execution_count": 70,
   "metadata": {},
   "outputs": [
    {
     "name": "stdout",
     "output_type": "stream",
     "text": [
      "listC: [1, 2, 3, 4]\n",
      "listD: [1, 2, 3]\n"
     ]
    }
   ],
   "source": [
    "listC = [1,2,3]\n",
    "listD = listC[:]           # A slice of the whole list.\n",
    "listC.append(4)\n",
    "print('listC:', listC)\n",
    "print('listD:', listD)"
   ]
  },
  {
   "cell_type": "markdown",
   "metadata": {},
   "source": [
    "## Extra exercises"
   ]
  },
  {
   "cell_type": "markdown",
   "metadata": {},
   "source": [
    "### Extra Exercise 1 \n",
    "- Modify the code below to print \"I found this line at position n :\", where n is the line number\n",
    "- Try to use only one print statement within the for loop"
   ]
  },
  {
   "cell_type": "code",
   "execution_count": 71,
   "metadata": {},
   "outputs": [
    {
     "name": "stdout",
     "output_type": "stream",
     "text": [
      "We are on the first line.\n",
      "\n",
      "We are on the second line.\n",
      "\n",
      "We are on the third line.\n",
      "\n",
      "We are on the fourth line.\n",
      "\n",
      "We are on the fifth line.\n",
      "\n",
      "We are on the sixth line.\n",
      "\n",
      "We are on the seventh line.\n",
      "\n",
      "We are on the eighth line.\n",
      "\n",
      "We are on the ninth line.\n",
      "\n",
      "We are on the tenth line.\n",
      "\n",
      "We are on the eleventh line.\n",
      "\n",
      "We are on the twelfth line.\n",
      "\n"
     ]
    }
   ],
   "source": [
    "# Open a file\n",
    "\n",
    "openFile = open('sample_text.txt')\n",
    "\n",
    "# Iterate through every line in the file.\n",
    "for line in openFile:\n",
    "    \n",
    "    # Print the current line\n",
    "    \n",
    "    print(line)\n",
    "\n",
    "# Close the file\n",
    "\n",
    "openFile.close()        # <=== Don't forget to close the file!"
   ]
  },
  {
   "cell_type": "markdown",
   "metadata": {},
   "source": [
    "### Extra Exercise 2\n",
    "Record and print inventory details for 4 fruit items a grocery store in the cell below \n",
    "- There are 3 apples, 4 oranges, 8 bananas and 12 kiwis\n",
    "- Print each item in its own line in the format \"Current status: 3 apples\""
   ]
  }
 ],
 "metadata": {
  "kernelspec": {
   "display_name": "Python 3",
   "language": "python",
   "name": "python3"
  },
  "language_info": {
   "codemirror_mode": {
    "name": "ipython",
    "version": 3
   },
   "file_extension": ".py",
   "mimetype": "text/x-python",
   "name": "python",
   "nbconvert_exporter": "python",
   "pygments_lexer": "ipython3",
   "version": "3.7.0"
  }
 },
 "nbformat": 4,
 "nbformat_minor": 2
}
